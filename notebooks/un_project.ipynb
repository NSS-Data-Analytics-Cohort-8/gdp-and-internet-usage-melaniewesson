{
 "cells": [
  {
   "cell_type": "code",
   "execution_count": 167,
   "id": "ac2ae137",
   "metadata": {},
   "outputs": [],
   "source": [
    "import pandas as pd\n",
    "import numpy as np\n",
    "import matplotlib.pyplot as plt\n",
    "import seaborn as sns"
   ]
  },
  {
   "cell_type": "markdown",
   "id": "4dbeb2c2",
   "metadata": {},
   "source": [
    "4. Using the pandas read_csv() method, read the GDP dataset into your notebook as a DataFrame called gdp_df. Take a look at the first few and last few rows to familiarize yourself with what is contained in this dataset."
   ]
  },
  {
   "cell_type": "code",
   "execution_count": 168,
   "id": "46b87dd4",
   "metadata": {},
   "outputs": [
    {
     "name": "stdout",
     "output_type": "stream",
     "text": [
      "  Country or Area  Year        Value  Value Footnotes\n",
      "0     Afghanistan  2020  1970.560169              NaN\n",
      "1     Afghanistan  2019  2065.036235              NaN\n",
      "2     Afghanistan  2018  2033.804389              NaN\n",
      "3     Afghanistan  2017  2058.400221              NaN\n",
      "4     Afghanistan  2016  2057.067978              NaN\n",
      "     Country or Area  Year        Value  Value Footnotes\n",
      "7171        Zimbabwe  1994  2603.927369              NaN\n",
      "7172        Zimbabwe  1993  2420.092791              NaN\n",
      "7173        Zimbabwe  1992  2437.152908              NaN\n",
      "7174        Zimbabwe  1991  2733.696626              NaN\n",
      "7175        Zimbabwe  1990  2652.129209              NaN\n"
     ]
    }
   ],
   "source": [
    "gdp_df = pd.read_csv('../data/gdp_percapita.csv')\n",
    "print(gdp_df.head())\n",
    "print(gdp_df.tail())"
   ]
  },
  {
   "cell_type": "markdown",
   "id": "f0f040cd",
   "metadata": {},
   "source": [
    "5. How many rows and columns are in gdp_df? What are the data types of each column?"
   ]
  },
  {
   "cell_type": "code",
   "execution_count": 169,
   "id": "3e31d40b",
   "metadata": {},
   "outputs": [
    {
     "name": "stdout",
     "output_type": "stream",
     "text": [
      "<class 'pandas.core.frame.DataFrame'>\n",
      "RangeIndex: 7176 entries, 0 to 7175\n",
      "Data columns (total 4 columns):\n",
      " #   Column           Non-Null Count  Dtype  \n",
      "---  ------           --------------  -----  \n",
      " 0   Country or Area  7176 non-null   object \n",
      " 1   Year             7176 non-null   int64  \n",
      " 2   Value            7176 non-null   float64\n",
      " 3   Value Footnotes  0 non-null      float64\n",
      "dtypes: float64(2), int64(1), object(1)\n",
      "memory usage: 224.4+ KB\n"
     ]
    }
   ],
   "source": [
    "gdp_df.info()\n"
   ]
  },
  {
   "cell_type": "markdown",
   "id": "1b1a43c5",
   "metadata": {},
   "source": [
    "6. Drop the Value Footnotes column and rename the remaining three to 'Country', 'Year', and 'GDP_Per_Capita'."
   ]
  },
  {
   "cell_type": "code",
   "execution_count": 170,
   "id": "1b7813e9",
   "metadata": {},
   "outputs": [],
   "source": [
    "gdp_df.drop('Value Footnotes', axis=1, inplace=True)"
   ]
  },
  {
   "cell_type": "code",
   "execution_count": 171,
   "id": "96a47b28",
   "metadata": {},
   "outputs": [
    {
     "name": "stdout",
     "output_type": "stream",
     "text": [
      "       Country  Year  GDP_Per_Capita\n",
      "0  Afghanistan  2020     1970.560169\n",
      "1  Afghanistan  2019     2065.036235\n",
      "2  Afghanistan  2018     2033.804389\n",
      "3  Afghanistan  2017     2058.400221\n",
      "4  Afghanistan  2016     2057.067978\n"
     ]
    }
   ],
   "source": [
    "gdp_df.columns = ['Country', 'Year', 'GDP_Per_Capita']\n",
    "print(gdp_df.head())"
   ]
  },
  {
   "cell_type": "markdown",
   "id": "58df7b72",
   "metadata": {},
   "source": [
    "7. How many countries have data for all years? Which countries are missing many years of data? Look at the number of observations per year. What do you notice?"
   ]
  },
  {
   "cell_type": "code",
   "execution_count": 172,
   "id": "21080676",
   "metadata": {},
   "outputs": [
    {
     "name": "stdout",
     "output_type": "stream",
     "text": [
      "Year\n",
      "1990    206\n",
      "1991    207\n",
      "1992    208\n",
      "1993    209\n",
      "1994    211\n",
      "1995    222\n",
      "1996    222\n",
      "1997    226\n",
      "1998    226\n",
      "1999    227\n",
      "2000    233\n",
      "2001    234\n",
      "2002    235\n",
      "2003    235\n",
      "2004    236\n",
      "2005    236\n",
      "2006    237\n",
      "2007    237\n",
      "2008    238\n",
      "2009    239\n",
      "2010    239\n",
      "2011    240\n",
      "2012    240\n",
      "2013    242\n",
      "2014    242\n",
      "2015    242\n",
      "2016    242\n",
      "2017    242\n",
      "2018    242\n",
      "2019    241\n",
      "2020    240\n",
      "Name: Country, dtype: int64\n"
     ]
    }
   ],
   "source": [
    "n_by_year = gdp_df.groupby([\"Year\"])[\"Country\"].count()\n",
    "print(n_by_year)"
   ]
  },
  {
   "cell_type": "code",
   "execution_count": 173,
   "id": "dbf74dec",
   "metadata": {},
   "outputs": [
    {
     "name": "stdout",
     "output_type": "stream",
     "text": [
      "Country\n",
      "Afghanistan                    19\n",
      "Africa Eastern and Southern    31\n",
      "Africa Western and Central     31\n",
      "Albania                        31\n",
      "Algeria                        31\n",
      "Name: Year, dtype: int64\n"
     ]
    }
   ],
   "source": [
    "n_by_country = gdp_df.groupby([\"Country\"])[\"Year\"].count()\n",
    "print(n_by_country.head())"
   ]
  },
  {
   "cell_type": "code",
   "execution_count": 174,
   "id": "2016bfa5",
   "metadata": {},
   "outputs": [
    {
     "data": {
      "text/plain": [
       "31    205\n",
       "26     11\n",
       "21      6\n",
       "24      4\n",
       "27      2\n",
       "8       2\n",
       "30      2\n",
       "10      2\n",
       "19      1\n",
       "28      1\n",
       "15      1\n",
       "13      1\n",
       "22      1\n",
       "17      1\n",
       "29      1\n",
       "20      1\n",
       "Name: Year, dtype: int64"
      ]
     },
     "execution_count": 174,
     "metadata": {},
     "output_type": "execute_result"
    }
   ],
   "source": [
    "n_by_country.value_counts()"
   ]
  },
  {
   "cell_type": "markdown",
   "id": "aa1f1020",
   "metadata": {},
   "source": [
    "8. In this question, you're going to create some plots to show the distribution of GDP per capita for the year 2020. Go to the Python Graph Gallery (https://www.python-graph-gallery.com/) and look at the different types of plots under the Distribution section. Create a histogram, a density plot, a boxplot, and a violin plot. What do you notice when you look at these plots? How do the plots compare and what information can you get out of one type that you can't necessarily get out of the others?"
   ]
  },
  {
   "cell_type": "code",
   "execution_count": 175,
   "id": "4f7f5c2c",
   "metadata": {},
   "outputs": [
    {
     "name": "stdout",
     "output_type": "stream",
     "text": [
      "                         Country  Year  GDP_Per_Capita\n",
      "0                    Afghanistan  2020     1970.560169\n",
      "19   Africa Eastern and Southern  2020     3491.978104\n",
      "50    Africa Western and Central  2020     4021.293919\n",
      "81                       Albania  2020    13253.733337\n",
      "112                      Algeria  2020    10735.382539\n"
     ]
    }
   ],
   "source": [
    "gdp_2020 = gdp_df.loc[gdp_df['Year'] == 2020]\n",
    "print(gdp_2020.head())"
   ]
  },
  {
   "cell_type": "code",
   "execution_count": 176,
   "id": "4bcb03bd",
   "metadata": {},
   "outputs": [
    {
     "data": {
      "text/plain": [
       "(array([110.,  60.,  23.,  20.,  14.,   6.,   3.,   1.,   2.,   1.]),\n",
       " array([   731.06407364,  11913.68861346,  23096.31315328,  34278.9376931 ,\n",
       "         45461.56223291,  56644.18677273,  67826.81131255,  79009.43585237,\n",
       "         90192.06039218, 101374.684932  , 112557.30947182]),\n",
       " <BarContainer object of 10 artists>)"
      ]
     },
     "execution_count": 176,
     "metadata": {},
     "output_type": "execute_result"
    },
    {
     "data": {
      "image/png": "[encoded data removed]",
      "text/plain": [
       "<Figure size 640x480 with 1 Axes>"
      ]
     },
     "metadata": {},
     "output_type": "display_data"
    }
   ],
   "source": [
    "gdp_2020 = gdp_df[gdp_df['Year'] == 2020]\n",
    "plt.hist(gdp_2020['GDP_Per_Capita'], bins=10)\n"
   ]
  },
  {
   "cell_type": "code",
   "execution_count": 177,
   "id": "222103b4",
   "metadata": {},
   "outputs": [
    {
     "data": {
      "text/plain": [
       "<Axes: xlabel='GDP_Per_Capita', ylabel='Count'>"
      ]
     },
     "execution_count": 177,
     "metadata": {},
     "output_type": "execute_result"
    },
    {
     "data": {
      "image/png": "[encoded data removed]",
      "text/plain": [
       "<Figure size 640x480 with 1 Axes>"
      ]
     },
     "metadata": {},
     "output_type": "display_data"
    }
   ],
   "source": [
    "sns.histplot(data = gdp_2020\n",
    "            ,x = 'GDP_Per_Capita',\n",
    "                       )"
   ]
  },
  {
   "cell_type": "code",
   "execution_count": 178,
   "id": "186a40f8",
   "metadata": {},
   "outputs": [
    {
     "data": {
      "text/plain": [
       "<Axes: xlabel='GDP_Per_Capita', ylabel='Density'>"
      ]
     },
     "execution_count": 178,
     "metadata": {},
     "output_type": "execute_result"
    },
    {
     "data": {
      "image/png": "[encoded data removed]",
      "text/plain": [
       "<Figure size 640x480 with 1 Axes>"
      ]
     },
     "metadata": {},
     "output_type": "display_data"
    }
   ],
   "source": [
    "sns.kdeplot(gdp_2020['GDP_Per_Capita'])\n"
   ]
  },
  {
   "cell_type": "code",
   "execution_count": 179,
   "id": "ed04cfbe",
   "metadata": {},
   "outputs": [
    {
     "data": {
      "text/plain": [
       "<Axes: xlabel='Year', ylabel='GDP_Per_Capita'>"
      ]
     },
     "execution_count": 179,
     "metadata": {},
     "output_type": "execute_result"
    },
    {
     "data": {
      "image/png": "[encoded data removed]",
      "text/plain": [
       "<Figure size 640x480 with 1 Axes>"
      ]
     },
     "metadata": {},
     "output_type": "display_data"
    }
   ],
   "source": [
    "sns.boxplot(x=gdp_2020[\"Year\"], y=gdp_2020[\"GDP_Per_Capita\"])\n"
   ]
  },
  {
   "cell_type": "code",
   "execution_count": 180,
   "id": "e9f6bb28",
   "metadata": {},
   "outputs": [
    {
     "data": {
      "text/plain": [
       "<Axes: xlabel='Year', ylabel='GDP_Per_Capita'>"
      ]
     },
     "execution_count": 180,
     "metadata": {},
     "output_type": "execute_result"
    },
    {
     "data": {
      "image/png": "[encoded data removed]",
      "text/plain": [
       "<Figure size 640x480 with 1 Axes>"
      ]
     },
     "metadata": {},
     "output_type": "display_data"
    }
   ],
   "source": [
    "sns.violinplot(x=gdp_2020[\"Year\"], y=gdp_2020[\"GDP_Per_Capita\"])\n"
   ]
  },
  {
   "cell_type": "markdown",
   "id": "5132bd50",
   "metadata": {},
   "source": [
    "9. What was the median GDP per capita value in 2020?"
   ]
  },
  {
   "cell_type": "code",
   "execution_count": 181,
   "id": "af78b871",
   "metadata": {},
   "outputs": [
    {
     "name": "stdout",
     "output_type": "stream",
     "text": [
      "GDP per capita, 2020 :  12908.9374056206\n"
     ]
    }
   ],
   "source": [
    "print(\"GDP per capita, 2020 : \", gdp_2020['GDP_Per_Capita'].median())"
   ]
  },
  {
   "cell_type": "markdown",
   "id": "c1e6c3b2",
   "metadata": {},
   "source": [
    "10. For this question, you're going to create some visualizations to compare GDP per capita values for the years 1990, 2000, 2010, and 2020. Start by subsetting your data to just these 4 years into a new DataFrame named gdp_decades. Using this, create the following 4 plots:\n",
    "\n",
    "a) A boxplot\n",
    "b) A barplot (check out the Barplot with Seaborn section: https://www.python-graph-gallery.com/barplot/#Seaborn)\n",
    "c) A scatterplot\n",
    "d) A scatterplot with a trend line overlaid (see this regplot example: https://www.python-graph-gallery.com/42-custom-linear-regression-fit-seaborn)\n",
    "Comment on what you observe has happened to GDP values over time and the relative strengths and weaknesses of each type of plot."
   ]
  },
  {
   "cell_type": "code",
   "execution_count": 182,
   "id": "9d7c5ab7",
   "metadata": {},
   "outputs": [],
   "source": [
    "gdp_decades =gdp_df[gdp_df['Year'].isin([1990, 2000, 2010, 2020])]"
   ]
  },
  {
   "cell_type": "code",
   "execution_count": 183,
   "id": "9d7a4f5f",
   "metadata": {},
   "outputs": [
    {
     "data": {
      "text/plain": [
       "<Axes: xlabel='Year', ylabel='GDP_Per_Capita'>"
      ]
     },
     "execution_count": 183,
     "metadata": {},
     "output_type": "execute_result"
    },
    {
     "data": {
      "image/png": "[encoded data removed]",
      "text/plain": [
       "<Figure size 640x480 with 1 Axes>"
      ]
     },
     "metadata": {},
     "output_type": "display_data"
    }
   ],
   "source": [
    "sns.boxplot(x=gdp_decades[\"Year\"], y=gdp_decades[\"GDP_Per_Capita\"])\n"
   ]
  },
  {
   "cell_type": "code",
   "execution_count": 184,
   "id": "c21e9fc5",
   "metadata": {},
   "outputs": [
    {
     "data": {
      "text/plain": [
       "<BarContainer object of 918 artists>"
      ]
     },
     "execution_count": 184,
     "metadata": {},
     "output_type": "execute_result"
    },
    {
     "data": {
      "image/png": "[encoded data removed]",
      "text/plain": [
       "<Figure size 640x480 with 1 Axes>"
      ]
     },
     "metadata": {},
     "output_type": "display_data"
    }
   ],
   "source": [
    "plt.bar(gdp_decades.Year, gdp_decades.GDP_Per_Capita)"
   ]
  },
  {
   "cell_type": "code",
   "execution_count": 185,
   "id": "64b1e2e6",
   "metadata": {},
   "outputs": [
    {
     "data": {
      "text/plain": [
       "<matplotlib.collections.PathCollection at 0x16ebb6d4fd0>"
      ]
     },
     "execution_count": 185,
     "metadata": {},
     "output_type": "execute_result"
    },
    {
     "data": {
      "image/png": "[encoded data removed]",
      "text/plain": [
       "<Figure size 640x480 with 1 Axes>"
      ]
     },
     "metadata": {},
     "output_type": "display_data"
    }
   ],
   "source": [
    "plt.scatter(gdp_decades.Year, gdp_decades.GDP_Per_Capita)"
   ]
  },
  {
   "cell_type": "code",
   "execution_count": 186,
   "id": "f893b350",
   "metadata": {},
   "outputs": [
    {
     "data": {
      "image/png": "[encoded data removed]",
      "text/plain": [
       "<Figure size 640x480 with 1 Axes>"
      ]
     },
     "metadata": {},
     "output_type": "display_data"
    }
   ],
   "source": [
    "sns.regplot(x=gdp_decades[\"Year\"], y=gdp_decades[\"GDP_Per_Capita\"], line_kws={\"color\":\"r\",\"alpha\":0.7,\"lw\":5})\n",
    "plt.show()"
   ]
  },
  {
   "cell_type": "markdown",
   "id": "0f3ccddc",
   "metadata": {},
   "source": [
    "11. Which country was the first to have a GDP per capita greater than $100,000?"
   ]
  },
  {
   "cell_type": "code",
   "execution_count": 187,
   "id": "85b5e222",
   "metadata": {},
   "outputs": [
    {
     "data": {
      "text/html": [
       "<div>\n",
       "<style scoped>\n",
       "    .dataframe tbody tr th:only-of-type {\n",
       "        vertical-align: middle;\n",
       "    }\n",
       "\n",
       "    .dataframe tbody tr th {\n",
       "        vertical-align: top;\n",
       "    }\n",
       "\n",
       "    .dataframe thead th {\n",
       "        text-align: right;\n",
       "    }\n",
       "</style>\n",
       "<table border=\"1\" class=\"dataframe\">\n",
       "  <thead>\n",
       "    <tr style=\"text-align: right;\">\n",
       "      <th></th>\n",
       "      <th>Country</th>\n",
       "      <th>Year</th>\n",
       "      <th>GDP_Per_Capita</th>\n",
       "    </tr>\n",
       "  </thead>\n",
       "  <tbody>\n",
       "    <tr>\n",
       "      <th>6838</th>\n",
       "      <td>United Arab Emirates</td>\n",
       "      <td>1990</td>\n",
       "      <td>111454.055665</td>\n",
       "    </tr>\n",
       "    <tr>\n",
       "      <th>6837</th>\n",
       "      <td>United Arab Emirates</td>\n",
       "      <td>1991</td>\n",
       "      <td>106103.552655</td>\n",
       "    </tr>\n",
       "    <tr>\n",
       "      <th>6836</th>\n",
       "      <td>United Arab Emirates</td>\n",
       "      <td>1992</td>\n",
       "      <td>103470.924576</td>\n",
       "    </tr>\n",
       "    <tr>\n",
       "      <th>6834</th>\n",
       "      <td>United Arab Emirates</td>\n",
       "      <td>1994</td>\n",
       "      <td>100213.156226</td>\n",
       "    </tr>\n",
       "    <tr>\n",
       "      <th>6833</th>\n",
       "      <td>United Arab Emirates</td>\n",
       "      <td>1995</td>\n",
       "      <td>101570.992100</td>\n",
       "    </tr>\n",
       "    <tr>\n",
       "      <th>6832</th>\n",
       "      <td>United Arab Emirates</td>\n",
       "      <td>1996</td>\n",
       "      <td>102211.638844</td>\n",
       "    </tr>\n",
       "    <tr>\n",
       "      <th>6831</th>\n",
       "      <td>United Arab Emirates</td>\n",
       "      <td>1997</td>\n",
       "      <td>105108.996265</td>\n",
       "    </tr>\n",
       "    <tr>\n",
       "      <th>6830</th>\n",
       "      <td>United Arab Emirates</td>\n",
       "      <td>1998</td>\n",
       "      <td>100100.435658</td>\n",
       "    </tr>\n",
       "    <tr>\n",
       "      <th>6828</th>\n",
       "      <td>United Arab Emirates</td>\n",
       "      <td>2000</td>\n",
       "      <td>102494.714624</td>\n",
       "    </tr>\n",
       "    <tr>\n",
       "      <th>3901</th>\n",
       "      <td>Luxembourg</td>\n",
       "      <td>2001</td>\n",
       "      <td>101143.147977</td>\n",
       "    </tr>\n",
       "    <tr>\n",
       "      <th>3900</th>\n",
       "      <td>Luxembourg</td>\n",
       "      <td>2002</td>\n",
       "      <td>103317.331098</td>\n",
       "    </tr>\n",
       "    <tr>\n",
       "      <th>3899</th>\n",
       "      <td>Luxembourg</td>\n",
       "      <td>2003</td>\n",
       "      <td>104743.000088</td>\n",
       "    </tr>\n",
       "    <tr>\n",
       "      <th>3898</th>\n",
       "      <td>Luxembourg</td>\n",
       "      <td>2004</td>\n",
       "      <td>107634.837198</td>\n",
       "    </tr>\n",
       "    <tr>\n",
       "      <th>3897</th>\n",
       "      <td>Luxembourg</td>\n",
       "      <td>2005</td>\n",
       "      <td>108632.360016</td>\n",
       "    </tr>\n",
       "    <tr>\n",
       "      <th>3896</th>\n",
       "      <td>Luxembourg</td>\n",
       "      <td>2006</td>\n",
       "      <td>113346.035782</td>\n",
       "    </tr>\n",
       "    <tr>\n",
       "      <th>3895</th>\n",
       "      <td>Luxembourg</td>\n",
       "      <td>2007</td>\n",
       "      <td>120647.822959</td>\n",
       "    </tr>\n",
       "    <tr>\n",
       "      <th>3894</th>\n",
       "      <td>Luxembourg</td>\n",
       "      <td>2008</td>\n",
       "      <td>118154.667184</td>\n",
       "    </tr>\n",
       "    <tr>\n",
       "      <th>3893</th>\n",
       "      <td>Luxembourg</td>\n",
       "      <td>2009</td>\n",
       "      <td>112230.081410</td>\n",
       "    </tr>\n",
       "    <tr>\n",
       "      <th>3892</th>\n",
       "      <td>Luxembourg</td>\n",
       "      <td>2010</td>\n",
       "      <td>114343.988089</td>\n",
       "    </tr>\n",
       "    <tr>\n",
       "      <th>3923</th>\n",
       "      <td>Macao SAR, China</td>\n",
       "      <td>2010</td>\n",
       "      <td>118085.567175</td>\n",
       "    </tr>\n",
       "    <tr>\n",
       "      <th>3891</th>\n",
       "      <td>Luxembourg</td>\n",
       "      <td>2011</td>\n",
       "      <td>112998.390477</td>\n",
       "    </tr>\n",
       "    <tr>\n",
       "      <th>3922</th>\n",
       "      <td>Macao SAR, China</td>\n",
       "      <td>2011</td>\n",
       "      <td>140321.907954</td>\n",
       "    </tr>\n",
       "    <tr>\n",
       "      <th>3921</th>\n",
       "      <td>Macao SAR, China</td>\n",
       "      <td>2012</td>\n",
       "      <td>149702.441471</td>\n",
       "    </tr>\n",
       "    <tr>\n",
       "      <th>3890</th>\n",
       "      <td>Luxembourg</td>\n",
       "      <td>2012</td>\n",
       "      <td>112137.135491</td>\n",
       "    </tr>\n",
       "    <tr>\n",
       "      <th>3889</th>\n",
       "      <td>Luxembourg</td>\n",
       "      <td>2013</td>\n",
       "      <td>113050.663254</td>\n",
       "    </tr>\n",
       "    <tr>\n",
       "      <th>3920</th>\n",
       "      <td>Macao SAR, China</td>\n",
       "      <td>2013</td>\n",
       "      <td>161971.464661</td>\n",
       "    </tr>\n",
       "    <tr>\n",
       "      <th>3919</th>\n",
       "      <td>Macao SAR, China</td>\n",
       "      <td>2014</td>\n",
       "      <td>155201.740571</td>\n",
       "    </tr>\n",
       "    <tr>\n",
       "      <th>3888</th>\n",
       "      <td>Luxembourg</td>\n",
       "      <td>2014</td>\n",
       "      <td>113313.578898</td>\n",
       "    </tr>\n",
       "    <tr>\n",
       "      <th>3887</th>\n",
       "      <td>Luxembourg</td>\n",
       "      <td>2015</td>\n",
       "      <td>113182.728563</td>\n",
       "    </tr>\n",
       "    <tr>\n",
       "      <th>3918</th>\n",
       "      <td>Macao SAR, China</td>\n",
       "      <td>2015</td>\n",
       "      <td>119406.919122</td>\n",
       "    </tr>\n",
       "    <tr>\n",
       "      <th>3886</th>\n",
       "      <td>Luxembourg</td>\n",
       "      <td>2016</td>\n",
       "      <td>116283.699681</td>\n",
       "    </tr>\n",
       "    <tr>\n",
       "      <th>3917</th>\n",
       "      <td>Macao SAR, China</td>\n",
       "      <td>2016</td>\n",
       "      <td>116519.507535</td>\n",
       "    </tr>\n",
       "    <tr>\n",
       "      <th>3916</th>\n",
       "      <td>Macao SAR, China</td>\n",
       "      <td>2017</td>\n",
       "      <td>126144.104058</td>\n",
       "    </tr>\n",
       "    <tr>\n",
       "      <th>3885</th>\n",
       "      <td>Luxembourg</td>\n",
       "      <td>2017</td>\n",
       "      <td>114985.842236</td>\n",
       "    </tr>\n",
       "    <tr>\n",
       "      <th>3915</th>\n",
       "      <td>Macao SAR, China</td>\n",
       "      <td>2018</td>\n",
       "      <td>132373.544079</td>\n",
       "    </tr>\n",
       "    <tr>\n",
       "      <th>3884</th>\n",
       "      <td>Luxembourg</td>\n",
       "      <td>2018</td>\n",
       "      <td>115049.926079</td>\n",
       "    </tr>\n",
       "    <tr>\n",
       "      <th>3914</th>\n",
       "      <td>Macao SAR, China</td>\n",
       "      <td>2019</td>\n",
       "      <td>127272.548511</td>\n",
       "    </tr>\n",
       "    <tr>\n",
       "      <th>3883</th>\n",
       "      <td>Luxembourg</td>\n",
       "      <td>2019</td>\n",
       "      <td>116518.276815</td>\n",
       "    </tr>\n",
       "    <tr>\n",
       "      <th>3882</th>\n",
       "      <td>Luxembourg</td>\n",
       "      <td>2020</td>\n",
       "      <td>112557.309472</td>\n",
       "    </tr>\n",
       "  </tbody>\n",
       "</table>\n",
       "</div>"
      ],
      "text/plain": [
       "                   Country  Year  GDP_Per_Capita\n",
       "6838  United Arab Emirates  1990   111454.055665\n",
       "6837  United Arab Emirates  1991   106103.552655\n",
       "6836  United Arab Emirates  1992   103470.924576\n",
       "6834  United Arab Emirates  1994   100213.156226\n",
       "6833  United Arab Emirates  1995   101570.992100\n",
       "6832  United Arab Emirates  1996   102211.638844\n",
       "6831  United Arab Emirates  1997   105108.996265\n",
       "6830  United Arab Emirates  1998   100100.435658\n",
       "6828  United Arab Emirates  2000   102494.714624\n",
       "3901            Luxembourg  2001   101143.147977\n",
       "3900            Luxembourg  2002   103317.331098\n",
       "3899            Luxembourg  2003   104743.000088\n",
       "3898            Luxembourg  2004   107634.837198\n",
       "3897            Luxembourg  2005   108632.360016\n",
       "3896            Luxembourg  2006   113346.035782\n",
       "3895            Luxembourg  2007   120647.822959\n",
       "3894            Luxembourg  2008   118154.667184\n",
       "3893            Luxembourg  2009   112230.081410\n",
       "3892            Luxembourg  2010   114343.988089\n",
       "3923      Macao SAR, China  2010   118085.567175\n",
       "3891            Luxembourg  2011   112998.390477\n",
       "3922      Macao SAR, China  2011   140321.907954\n",
       "3921      Macao SAR, China  2012   149702.441471\n",
       "3890            Luxembourg  2012   112137.135491\n",
       "3889            Luxembourg  2013   113050.663254\n",
       "3920      Macao SAR, China  2013   161971.464661\n",
       "3919      Macao SAR, China  2014   155201.740571\n",
       "3888            Luxembourg  2014   113313.578898\n",
       "3887            Luxembourg  2015   113182.728563\n",
       "3918      Macao SAR, China  2015   119406.919122\n",
       "3886            Luxembourg  2016   116283.699681\n",
       "3917      Macao SAR, China  2016   116519.507535\n",
       "3916      Macao SAR, China  2017   126144.104058\n",
       "3885            Luxembourg  2017   114985.842236\n",
       "3915      Macao SAR, China  2018   132373.544079\n",
       "3884            Luxembourg  2018   115049.926079\n",
       "3914      Macao SAR, China  2019   127272.548511\n",
       "3883            Luxembourg  2019   116518.276815\n",
       "3882            Luxembourg  2020   112557.309472"
      ]
     },
     "execution_count": 187,
     "metadata": {},
     "output_type": "execute_result"
    }
   ],
   "source": [
    "gdp_100k = gdp_df[\"GDP_Per_Capita\"] > 100000\n",
    "gdp_df[gdp_100k].sort_values(\"Year\")"
   ]
  },
  {
   "cell_type": "markdown",
   "id": "4d470dd1",
   "metadata": {},
   "source": [
    "12. Which country had the highest GDP per capita in 2020? Create a plot showing how this country's GDP per capita has changed over the timespan of the dataset."
   ]
  },
  {
   "cell_type": "code",
   "execution_count": 188,
   "id": "5bb36fb4",
   "metadata": {},
   "outputs": [
    {
     "data": {
      "text/html": [
       "<div>\n",
       "<style scoped>\n",
       "    .dataframe tbody tr th:only-of-type {\n",
       "        vertical-align: middle;\n",
       "    }\n",
       "\n",
       "    .dataframe tbody tr th {\n",
       "        vertical-align: top;\n",
       "    }\n",
       "\n",
       "    .dataframe thead th {\n",
       "        text-align: right;\n",
       "    }\n",
       "</style>\n",
       "<table border=\"1\" class=\"dataframe\">\n",
       "  <thead>\n",
       "    <tr style=\"text-align: right;\">\n",
       "      <th></th>\n",
       "      <th>Country</th>\n",
       "      <th>Year</th>\n",
       "      <th>GDP_Per_Capita</th>\n",
       "    </tr>\n",
       "  </thead>\n",
       "  <tbody>\n",
       "    <tr>\n",
       "      <th>3882</th>\n",
       "      <td>Luxembourg</td>\n",
       "      <td>2020</td>\n",
       "      <td>112557.309472</td>\n",
       "    </tr>\n",
       "    <tr>\n",
       "      <th>5720</th>\n",
       "      <td>Singapore</td>\n",
       "      <td>2020</td>\n",
       "      <td>94505.636160</td>\n",
       "    </tr>\n",
       "    <tr>\n",
       "      <th>3071</th>\n",
       "      <td>Ireland</td>\n",
       "      <td>2020</td>\n",
       "      <td>90789.221024</td>\n",
       "    </tr>\n",
       "    <tr>\n",
       "      <th>5381</th>\n",
       "      <td>Qatar</td>\n",
       "      <td>2020</td>\n",
       "      <td>85290.450430</td>\n",
       "    </tr>\n",
       "    <tr>\n",
       "      <th>639</th>\n",
       "      <td>Bermuda</td>\n",
       "      <td>2020</td>\n",
       "      <td>76105.138057</td>\n",
       "    </tr>\n",
       "    <tr>\n",
       "      <th>...</th>\n",
       "      <td>...</td>\n",
       "      <td>...</td>\n",
       "      <td>...</td>\n",
       "    </tr>\n",
       "    <tr>\n",
       "      <th>4750</th>\n",
       "      <td>Niger</td>\n",
       "      <td>2020</td>\n",
       "      <td>1221.269930</td>\n",
       "    </tr>\n",
       "    <tr>\n",
       "      <th>5871</th>\n",
       "      <td>Somalia</td>\n",
       "      <td>2020</td>\n",
       "      <td>1180.965971</td>\n",
       "    </tr>\n",
       "    <tr>\n",
       "      <th>1524</th>\n",
       "      <td>Dem. Rep. Congo</td>\n",
       "      <td>2020</td>\n",
       "      <td>1082.445242</td>\n",
       "    </tr>\n",
       "    <tr>\n",
       "      <th>1136</th>\n",
       "      <td>Central African Republic</td>\n",
       "      <td>2020</td>\n",
       "      <td>937.856470</td>\n",
       "    </tr>\n",
       "    <tr>\n",
       "      <th>914</th>\n",
       "      <td>Burundi</td>\n",
       "      <td>2020</td>\n",
       "      <td>731.064074</td>\n",
       "    </tr>\n",
       "  </tbody>\n",
       "</table>\n",
       "<p>240 rows × 3 columns</p>\n",
       "</div>"
      ],
      "text/plain": [
       "                       Country  Year  GDP_Per_Capita\n",
       "3882                Luxembourg  2020   112557.309472\n",
       "5720                 Singapore  2020    94505.636160\n",
       "3071                   Ireland  2020    90789.221024\n",
       "5381                     Qatar  2020    85290.450430\n",
       "639                    Bermuda  2020    76105.138057\n",
       "...                        ...   ...             ...\n",
       "4750                     Niger  2020     1221.269930\n",
       "5871                   Somalia  2020     1180.965971\n",
       "1524           Dem. Rep. Congo  2020     1082.445242\n",
       "1136  Central African Republic  2020      937.856470\n",
       "914                    Burundi  2020      731.064074\n",
       "\n",
       "[240 rows x 3 columns]"
      ]
     },
     "execution_count": 188,
     "metadata": {},
     "output_type": "execute_result"
    }
   ],
   "source": [
    "gdp_2020.sort_values(\"GDP_Per_Capita\", ascending=False)"
   ]
  },
  {
   "cell_type": "code",
   "execution_count": 189,
   "id": "4c9578bd",
   "metadata": {},
   "outputs": [
    {
     "name": "stdout",
     "output_type": "stream",
     "text": [
      "         Country  Year  GDP_Per_Capita\n",
      "3882  Luxembourg  2020   112557.309472\n",
      "3883  Luxembourg  2019   116518.276815\n",
      "3884  Luxembourg  2018   115049.926079\n",
      "3885  Luxembourg  2017   114985.842236\n",
      "3886  Luxembourg  2016   116283.699681\n"
     ]
    }
   ],
   "source": [
    "gdp_lux = gdp_df.loc[gdp_df['Country'] == 'Luxembourg']\n",
    "print(gdp_lux.head())"
   ]
  },
  {
   "cell_type": "code",
   "execution_count": 190,
   "id": "01120563",
   "metadata": {},
   "outputs": [
    {
     "data": {
      "image/png": "[encoded data removed]",
      "text/plain": [
       "<Figure size 640x480 with 1 Axes>"
      ]
     },
     "metadata": {},
     "output_type": "display_data"
    }
   ],
   "source": [
    "plt.plot(gdp_lux.Year, gdp_lux.GDP_Per_Capita);\n"
   ]
  },
  {
   "cell_type": "markdown",
   "id": "8b5cb844",
   "metadata": {},
   "source": [
    "13. Which country had the lowest GDP per capita in 2020? Create a plot showing how this country's GDP per capita has changed over the timespan of the dataset. Bonus question: Is it true in general that coutries had a higher GDP per capita in 2020 than in 1990? Which countries had lower GDP per capita in 2020 than in 1990?\n",
    "\n"
   ]
  },
  {
   "cell_type": "code",
   "execution_count": 191,
   "id": "5d7ddce1",
   "metadata": {},
   "outputs": [
    {
     "data": {
      "text/html": [
       "<div>\n",
       "<style scoped>\n",
       "    .dataframe tbody tr th:only-of-type {\n",
       "        vertical-align: middle;\n",
       "    }\n",
       "\n",
       "    .dataframe tbody tr th {\n",
       "        vertical-align: top;\n",
       "    }\n",
       "\n",
       "    .dataframe thead th {\n",
       "        text-align: right;\n",
       "    }\n",
       "</style>\n",
       "<table border=\"1\" class=\"dataframe\">\n",
       "  <thead>\n",
       "    <tr style=\"text-align: right;\">\n",
       "      <th></th>\n",
       "      <th>Country</th>\n",
       "      <th>Year</th>\n",
       "      <th>GDP_Per_Capita</th>\n",
       "    </tr>\n",
       "  </thead>\n",
       "  <tbody>\n",
       "    <tr>\n",
       "      <th>914</th>\n",
       "      <td>Burundi</td>\n",
       "      <td>2020</td>\n",
       "      <td>731.064074</td>\n",
       "    </tr>\n",
       "    <tr>\n",
       "      <th>1136</th>\n",
       "      <td>Central African Republic</td>\n",
       "      <td>2020</td>\n",
       "      <td>937.856470</td>\n",
       "    </tr>\n",
       "    <tr>\n",
       "      <th>1524</th>\n",
       "      <td>Dem. Rep. Congo</td>\n",
       "      <td>2020</td>\n",
       "      <td>1082.445242</td>\n",
       "    </tr>\n",
       "    <tr>\n",
       "      <th>5871</th>\n",
       "      <td>Somalia</td>\n",
       "      <td>2020</td>\n",
       "      <td>1180.965971</td>\n",
       "    </tr>\n",
       "    <tr>\n",
       "      <th>4750</th>\n",
       "      <td>Niger</td>\n",
       "      <td>2020</td>\n",
       "      <td>1221.269930</td>\n",
       "    </tr>\n",
       "    <tr>\n",
       "      <th>...</th>\n",
       "      <td>...</td>\n",
       "      <td>...</td>\n",
       "      <td>...</td>\n",
       "    </tr>\n",
       "    <tr>\n",
       "      <th>639</th>\n",
       "      <td>Bermuda</td>\n",
       "      <td>2020</td>\n",
       "      <td>76105.138057</td>\n",
       "    </tr>\n",
       "    <tr>\n",
       "      <th>5381</th>\n",
       "      <td>Qatar</td>\n",
       "      <td>2020</td>\n",
       "      <td>85290.450430</td>\n",
       "    </tr>\n",
       "    <tr>\n",
       "      <th>3071</th>\n",
       "      <td>Ireland</td>\n",
       "      <td>2020</td>\n",
       "      <td>90789.221024</td>\n",
       "    </tr>\n",
       "    <tr>\n",
       "      <th>5720</th>\n",
       "      <td>Singapore</td>\n",
       "      <td>2020</td>\n",
       "      <td>94505.636160</td>\n",
       "    </tr>\n",
       "    <tr>\n",
       "      <th>3882</th>\n",
       "      <td>Luxembourg</td>\n",
       "      <td>2020</td>\n",
       "      <td>112557.309472</td>\n",
       "    </tr>\n",
       "  </tbody>\n",
       "</table>\n",
       "<p>240 rows × 3 columns</p>\n",
       "</div>"
      ],
      "text/plain": [
       "                       Country  Year  GDP_Per_Capita\n",
       "914                    Burundi  2020      731.064074\n",
       "1136  Central African Republic  2020      937.856470\n",
       "1524           Dem. Rep. Congo  2020     1082.445242\n",
       "5871                   Somalia  2020     1180.965971\n",
       "4750                     Niger  2020     1221.269930\n",
       "...                        ...   ...             ...\n",
       "639                    Bermuda  2020    76105.138057\n",
       "5381                     Qatar  2020    85290.450430\n",
       "3071                   Ireland  2020    90789.221024\n",
       "5720                 Singapore  2020    94505.636160\n",
       "3882                Luxembourg  2020   112557.309472\n",
       "\n",
       "[240 rows x 3 columns]"
      ]
     },
     "execution_count": 191,
     "metadata": {},
     "output_type": "execute_result"
    }
   ],
   "source": [
    "gdp_2020.sort_values(\"GDP_Per_Capita\")"
   ]
  },
  {
   "cell_type": "code",
   "execution_count": 192,
   "id": "980fd28f",
   "metadata": {},
   "outputs": [
    {
     "name": "stdout",
     "output_type": "stream",
     "text": [
      "     Country  Year  GDP_Per_Capita\n",
      "914  Burundi  2020      731.064074\n",
      "915  Burundi  2019      751.443405\n",
      "916  Burundi  2018      761.524143\n",
      "917  Burundi  2017      773.572859\n",
      "918  Burundi  2016      794.604340\n"
     ]
    }
   ],
   "source": [
    "gdp_burundi = gdp_df.loc[gdp_df['Country'] == 'Burundi']\n",
    "print(gdp_burundi.head())"
   ]
  },
  {
   "cell_type": "code",
   "execution_count": 193,
   "id": "90423573",
   "metadata": {},
   "outputs": [
    {
     "data": {
      "text/plain": [
       "[<matplotlib.lines.Line2D at 0x16eb96b7d00>]"
      ]
     },
     "execution_count": 193,
     "metadata": {},
     "output_type": "execute_result"
    },
    {
     "data": {
      "image/png": "[encoded data removed]",
      "text/plain": [
       "<Figure size 640x480 with 1 Axes>"
      ]
     },
     "metadata": {},
     "output_type": "display_data"
    }
   ],
   "source": [
    "plt.plot(gdp_burundi.Year, gdp_burundi.GDP_Per_Capita)"
   ]
  },
  {
   "cell_type": "code",
   "execution_count": 194,
   "id": "e2c74852",
   "metadata": {},
   "outputs": [
    {
     "name": "stdout",
     "output_type": "stream",
     "text": [
      "GDP per capita, 1990 :  12465.941627925598\n"
     ]
    }
   ],
   "source": [
    "mean_1990= gdp_df[gdp_df[\"Year\"] == 1990][\"GDP_Per_Capita\"].mean()\n",
    "print(\"GDP per capita, 1990 : \", mean_1990)"
   ]
  },
  {
   "cell_type": "code",
   "execution_count": 195,
   "id": "641f8360",
   "metadata": {},
   "outputs": [
    {
     "name": "stdout",
     "output_type": "stream",
     "text": [
      "GDP per capita, 2020 :  19496.88171245749\n"
     ]
    }
   ],
   "source": [
    "mean_2020= gdp_df[gdp_df[\"Year\"] == 2020][\"GDP_Per_Capita\"].mean()\n",
    "print(\"GDP per capita, 2020 : \", mean_2020)"
   ]
  },
  {
   "cell_type": "markdown",
   "id": "07c522b9",
   "metadata": {},
   "source": [
    "14. Read in the internet use dataset into a DataFrame named internet_df. You will likely get errors when doing this. Check the arguments for the read_csv function to find ones that can help correct the errors (https://pandas.pydata.org/docs/reference/api/pandas.read_csv.html) Once you are able to read it in, take per a look at the top and bottom few rows to make sure that it has been read in correctly. Also, check the datatypes of the columns."
   ]
  },
  {
   "cell_type": "code",
   "execution_count": 196,
   "id": "d8ccb1ed",
   "metadata": {},
   "outputs": [
    {
     "name": "stdout",
     "output_type": "stream",
     "text": [
      "  Country or Area  Year     Value  Value Footnotes\n",
      "0     Afghanistan  2014  6.390000              NaN\n",
      "1     Afghanistan  2013  5.900000              NaN\n",
      "2     Afghanistan  2012  5.454545              NaN\n",
      "3     Afghanistan  2011  5.000000              NaN\n",
      "4     Afghanistan  2010  4.000000              NaN\n",
      "     Country or Area  Year     Value  Value Footnotes\n",
      "4490        Zimbabwe  1997  0.033080              NaN\n",
      "4491        Zimbabwe  1996  0.016790              NaN\n",
      "4492        Zimbabwe  1995  0.007684              NaN\n",
      "4493        Zimbabwe  1994  0.001739              NaN\n",
      "4494        Zimbabwe  1990  0.000000              NaN\n"
     ]
    }
   ],
   "source": [
    "internet_df = pd.read_csv('../data/internet_use.csv', nrows=4495)\n",
    "print(internet_df.head())\n",
    "print(internet_df.tail())\n"
   ]
  },
  {
   "cell_type": "code",
   "execution_count": 197,
   "id": "461b853f",
   "metadata": {},
   "outputs": [
    {
     "name": "stdout",
     "output_type": "stream",
     "text": [
      "<class 'pandas.core.frame.DataFrame'>\n",
      "RangeIndex: 4495 entries, 0 to 4494\n",
      "Data columns (total 4 columns):\n",
      " #   Column           Non-Null Count  Dtype  \n",
      "---  ------           --------------  -----  \n",
      " 0   Country or Area  4495 non-null   object \n",
      " 1   Year             4495 non-null   int64  \n",
      " 2   Value            4495 non-null   float64\n",
      " 3   Value Footnotes  948 non-null    float64\n",
      "dtypes: float64(2), int64(1), object(1)\n",
      "memory usage: 140.6+ KB\n"
     ]
    }
   ],
   "source": [
    "internet_df.info()"
   ]
  },
  {
   "cell_type": "markdown",
   "id": "9ef0828a",
   "metadata": {},
   "source": [
    "15. Drop the Value Footnotes column and rename the remaining three to 'Country', 'Year', and 'Internet_Users_Pct'."
   ]
  },
  {
   "cell_type": "code",
   "execution_count": 198,
   "id": "2be440ff",
   "metadata": {},
   "outputs": [],
   "source": [
    "internet_df.drop('Value Footnotes', axis=1, inplace=True)"
   ]
  },
  {
   "cell_type": "code",
   "execution_count": 199,
   "id": "debc080d",
   "metadata": {},
   "outputs": [
    {
     "name": "stdout",
     "output_type": "stream",
     "text": [
      "       Country  Year  Internet_Users_Pct\n",
      "0  Afghanistan  2014            6.390000\n",
      "1  Afghanistan  2013            5.900000\n",
      "2  Afghanistan  2012            5.454545\n",
      "3  Afghanistan  2011            5.000000\n",
      "4  Afghanistan  2010            4.000000\n"
     ]
    }
   ],
   "source": [
    "internet_df.columns = ['Country', 'Year', 'Internet_Users_Pct']\n",
    "print(internet_df.head())"
   ]
  },
  {
   "cell_type": "markdown",
   "id": "113dbd9a",
   "metadata": {},
   "source": [
    "16. Look at the number of observations in this dataset per year. What do you notice?"
   ]
  },
  {
   "cell_type": "code",
   "execution_count": 200,
   "id": "862e0fee",
   "metadata": {},
   "outputs": [
    {
     "name": "stdout",
     "output_type": "stream",
     "text": [
      "Year\n",
      "1960      7\n",
      "1965      7\n",
      "1970      7\n",
      "1975      7\n",
      "1976      7\n",
      "1977      7\n",
      "1978      7\n",
      "1979      7\n",
      "1980      7\n",
      "1981      7\n",
      "1982      7\n",
      "1983      7\n",
      "1984      7\n",
      "1985      7\n",
      "1986      7\n",
      "1987      7\n",
      "1988      7\n",
      "1989      8\n",
      "1990    210\n",
      "1991     39\n",
      "1992     50\n",
      "1993     65\n",
      "1994     91\n",
      "1995    138\n",
      "1996    175\n",
      "1997    184\n",
      "1998    190\n",
      "1999    198\n",
      "2000    199\n",
      "2001    201\n",
      "2002    202\n",
      "2003    196\n",
      "2004    199\n",
      "2005    201\n",
      "2006    200\n",
      "2007    206\n",
      "2008    204\n",
      "2009    203\n",
      "2010    203\n",
      "2011    207\n",
      "2012    203\n",
      "2013    202\n",
      "2014    202\n",
      "Name: Country, dtype: int64\n"
     ]
    }
   ],
   "source": [
    "internet_by_year = internet_df.groupby([\"Year\"])[\"Country\"].count()\n",
    "print(internet_by_year)"
   ]
  },
  {
   "cell_type": "markdown",
   "id": "9dc2c2df",
   "metadata": {},
   "source": [
    "17. What is the first year to have a non-zero internet users percentage value?"
   ]
  },
  {
   "cell_type": "code",
   "execution_count": 201,
   "id": "ddab30fa",
   "metadata": {},
   "outputs": [],
   "source": [
    "non_zero = internet_df.loc[internet_df['Internet_Users_Pct'] > 0]"
   ]
  },
  {
   "cell_type": "code",
   "execution_count": 202,
   "id": "14605642",
   "metadata": {},
   "outputs": [
    {
     "data": {
      "text/html": [
       "<div>\n",
       "<style scoped>\n",
       "    .dataframe tbody tr th:only-of-type {\n",
       "        vertical-align: middle;\n",
       "    }\n",
       "\n",
       "    .dataframe tbody tr th {\n",
       "        vertical-align: top;\n",
       "    }\n",
       "\n",
       "    .dataframe thead th {\n",
       "        text-align: right;\n",
       "    }\n",
       "</style>\n",
       "<table border=\"1\" class=\"dataframe\">\n",
       "  <thead>\n",
       "    <tr style=\"text-align: right;\">\n",
       "      <th></th>\n",
       "      <th>Country</th>\n",
       "      <th>Year</th>\n",
       "      <th>Internet_Users_Pct</th>\n",
       "    </tr>\n",
       "  </thead>\n",
       "  <tbody>\n",
       "    <tr>\n",
       "      <th>2048</th>\n",
       "      <td>Italy</td>\n",
       "      <td>1990</td>\n",
       "      <td>0.017545</td>\n",
       "    </tr>\n",
       "    <tr>\n",
       "      <th>1107</th>\n",
       "      <td>Denmark</td>\n",
       "      <td>1990</td>\n",
       "      <td>0.097277</td>\n",
       "    </tr>\n",
       "    <tr>\n",
       "      <th>375</th>\n",
       "      <td>Belgium</td>\n",
       "      <td>1990</td>\n",
       "      <td>0.001007</td>\n",
       "    </tr>\n",
       "    <tr>\n",
       "      <th>1388</th>\n",
       "      <td>Finland</td>\n",
       "      <td>1990</td>\n",
       "      <td>0.401088</td>\n",
       "    </tr>\n",
       "    <tr>\n",
       "      <th>4301</th>\n",
       "      <td>United States</td>\n",
       "      <td>1990</td>\n",
       "      <td>0.784729</td>\n",
       "    </tr>\n",
       "    <tr>\n",
       "      <th>...</th>\n",
       "      <td>...</td>\n",
       "      <td>...</td>\n",
       "      <td>...</td>\n",
       "    </tr>\n",
       "    <tr>\n",
       "      <th>2175</th>\n",
       "      <td>Kiribati</td>\n",
       "      <td>2014</td>\n",
       "      <td>12.250000</td>\n",
       "    </tr>\n",
       "    <tr>\n",
       "      <th>848</th>\n",
       "      <td>Colombia</td>\n",
       "      <td>2014</td>\n",
       "      <td>52.570000</td>\n",
       "    </tr>\n",
       "    <tr>\n",
       "      <th>1299</th>\n",
       "      <td>Ethiopia</td>\n",
       "      <td>2014</td>\n",
       "      <td>2.900000</td>\n",
       "    </tr>\n",
       "    <tr>\n",
       "      <th>623</th>\n",
       "      <td>Burundi</td>\n",
       "      <td>2014</td>\n",
       "      <td>1.380000</td>\n",
       "    </tr>\n",
       "    <tr>\n",
       "      <th>0</th>\n",
       "      <td>Afghanistan</td>\n",
       "      <td>2014</td>\n",
       "      <td>6.390000</td>\n",
       "    </tr>\n",
       "  </tbody>\n",
       "</table>\n",
       "<p>4106 rows × 3 columns</p>\n",
       "</div>"
      ],
      "text/plain": [
       "            Country  Year  Internet_Users_Pct\n",
       "2048          Italy  1990            0.017545\n",
       "1107        Denmark  1990            0.097277\n",
       "375         Belgium  1990            0.001007\n",
       "1388        Finland  1990            0.401088\n",
       "4301  United States  1990            0.784729\n",
       "...             ...   ...                 ...\n",
       "2175       Kiribati  2014           12.250000\n",
       "848        Colombia  2014           52.570000\n",
       "1299       Ethiopia  2014            2.900000\n",
       "623         Burundi  2014            1.380000\n",
       "0       Afghanistan  2014            6.390000\n",
       "\n",
       "[4106 rows x 3 columns]"
      ]
     },
     "execution_count": 202,
     "metadata": {},
     "output_type": "execute_result"
    }
   ],
   "source": [
    "non_zero.sort_values(\"Year\", ascending=True)"
   ]
  },
  {
   "cell_type": "markdown",
   "id": "7832fe6d",
   "metadata": {},
   "source": [
    "18. How does the distribution of internet users percent differ for 2000 and 2014?"
   ]
  },
  {
   "cell_type": "code",
   "execution_count": 203,
   "id": "a30ef2dd",
   "metadata": {},
   "outputs": [
    {
     "data": {
      "text/plain": [
       "(array([120.,  30.,  12.,   5.,   5.,   6.,   5.,   3.,   8.,   5.]),\n",
       " array([ 0. ,  5.2, 10.4, 15.6, 20.8, 26. , 31.2, 36.4, 41.6, 46.8, 52. ]),\n",
       " <BarContainer object of 10 artists>)"
      ]
     },
     "execution_count": 203,
     "metadata": {},
     "output_type": "execute_result"
    },
    {
     "data": {
      "image/png": "[encoded data removed]",
      "text/plain": [
       "<Figure size 640x480 with 1 Axes>"
      ]
     },
     "metadata": {},
     "output_type": "display_data"
    }
   ],
   "source": [
    "internet_2020 = internet_df[internet_df[\"Year\"] == 2000]\n",
    "plt.hist(internet_2020['Internet_Users_Pct'], bins=10)"
   ]
  },
  {
   "cell_type": "code",
   "execution_count": 204,
   "id": "5c55926e",
   "metadata": {},
   "outputs": [
    {
     "data": {
      "text/plain": [
       "(array([31., 31., 12., 10., 24., 18., 21., 20., 18., 17.]),\n",
       " array([ 0.   ,  9.816, 19.632, 29.448, 39.264, 49.08 , 58.896, 68.712,\n",
       "        78.528, 88.344, 98.16 ]),\n",
       " <BarContainer object of 10 artists>)"
      ]
     },
     "execution_count": 204,
     "metadata": {},
     "output_type": "execute_result"
    },
    {
     "data": {
      "image/png": "[encoded data removed]",
      "text/plain": [
       "<Figure size 640x480 with 1 Axes>"
      ]
     },
     "metadata": {},
     "output_type": "display_data"
    }
   ],
   "source": [
    "internet_2014 = internet_df[internet_df[\"Year\"] == 2014]\n",
    "plt.hist(internet_2014['Internet_Users_Pct'], bins=10)"
   ]
  },
  {
   "cell_type": "markdown",
   "id": "3f3517f2",
   "metadata": {},
   "source": [
    "19. For how many countries was the percentage of internet users below 5% in 2014?"
   ]
  },
  {
   "cell_type": "code",
   "execution_count": 205,
   "id": "f99efcd4",
   "metadata": {},
   "outputs": [
    {
     "data": {
      "text/plain": [
       "Country               16\n",
       "Year                  16\n",
       "Internet_Users_Pct    16\n",
       "dtype: int64"
      ]
     },
     "execution_count": 205,
     "metadata": {},
     "output_type": "execute_result"
    }
   ],
   "source": [
    "internet_2014[internet_2014[\"Internet_Users_Pct\"] < 5].count()"
   ]
  },
  {
   "cell_type": "markdown",
   "id": "611abc3e",
   "metadata": {},
   "source": [
    "20. Merge the two DataFrames to one. Do this in a way that keeps all rows from each of the two DataFrames. Call the new DataFrame gdp_and_internet_use. Look at the first and last few rows to confirm that it merged correctly."
   ]
  },
  {
   "cell_type": "code",
   "execution_count": 206,
   "id": "4070666f",
   "metadata": {},
   "outputs": [
    {
     "name": "stdout",
     "output_type": "stream",
     "text": [
      "       Country  Year  GDP_Per_Capita  Internet_Users_Pct\n",
      "0  Afghanistan  2020     1970.560169                 NaN\n",
      "1  Afghanistan  2019     2065.036235                 NaN\n",
      "2  Afghanistan  2018     2033.804389                 NaN\n",
      "3  Afghanistan  2017     2058.400221                 NaN\n",
      "4  Afghanistan  2016     2057.067978                 NaN\n",
      "5  Afghanistan  2015     2068.265904                 NaN\n",
      "6  Afghanistan  2014     2102.384604            6.390000\n",
      "7  Afghanistan  2013     2116.465258            5.900000\n",
      "8  Afghanistan  2012     2075.491614            5.454545\n",
      "9  Afghanistan  2011     1904.559926            5.000000\n",
      "     Country  Year  GDP_Per_Capita  Internet_Users_Pct\n",
      "8251   Yemen  1999             NaN            0.056629\n",
      "8252   Yemen  1998             NaN            0.023323\n",
      "8253   Yemen  1997             NaN            0.015025\n",
      "8254   Yemen  1996             NaN            0.000621\n",
      "8255   Yemen  1990             NaN            0.000000\n"
     ]
    }
   ],
   "source": [
    "gdp_and_internet_use = gdp_df.merge(internet_df, how='outer')\n",
    "print(gdp_and_internet_use.head(10))\n",
    "print(gdp_and_internet_use.tail())"
   ]
  },
  {
   "cell_type": "markdown",
   "id": "27335c85",
   "metadata": {},
   "source": [
    "21. Find the three countries with the highest internet users percentage in 2014. Use a seaborn FacetGrid (https://seaborn.pydata.org/generated/seaborn.FacetGrid.html) to compare how the GDP per capita has changed over time for these three countries. What do you notice?"
   ]
  },
  {
   "cell_type": "code",
   "execution_count": 207,
   "id": "e1007db0",
   "metadata": {},
   "outputs": [
    {
     "name": "stdout",
     "output_type": "stream",
     "text": [
      "                         Country  Year  GDP_Per_Capita  Internet_Users_Pct\n",
      "6                    Afghanistan  2014     2102.384604                6.39\n",
      "25   Africa Eastern and Southern  2014     3677.319414                 NaN\n",
      "56    Africa Western and Central  2014     4215.646000                 NaN\n",
      "87                       Albania  2014    11586.833878               60.10\n",
      "118                      Algeria  2014    11512.690472               18.09\n"
     ]
    }
   ],
   "source": [
    "gdp_and_internet_use_2014 = gdp_and_internet_use[gdp_and_internet_use[\"Year\"] == 2014]\n",
    "print(gdp_and_internet_use_2014.head())"
   ]
  },
  {
   "cell_type": "code",
   "execution_count": 208,
   "id": "72281b11",
   "metadata": {},
   "outputs": [
    {
     "name": "stdout",
     "output_type": "stream",
     "text": [
      "      Country  Year  GDP_Per_Capita  Internet_Users_Pct\n",
      "2803  Iceland  2014    50450.741612               98.16\n",
      "645   Bermuda  2014    77361.104881               96.80\n",
      "4880   Norway  2014    62390.130313               96.30\n"
     ]
    }
   ],
   "source": [
    "top_3_2014 = gdp_and_internet_use_2014.sort_values('Internet_Users_Pct', ascending = False).head(3)\n",
    "print(top_3_2014)"
   ]
  },
  {
   "cell_type": "code",
   "execution_count": 209,
   "id": "1694f822",
   "metadata": {},
   "outputs": [
    {
     "name": "stdout",
     "output_type": "stream",
     "text": [
      "     Country  Year  GDP_Per_Capita  Internet_Users_Pct\n",
      "639  Bermuda  2020    76105.138057                 NaN\n",
      "640  Bermuda  2019    81681.726668                 NaN\n",
      "641  Bermuda  2018    81423.408453                 NaN\n",
      "642  Bermuda  2017    81834.955874                 NaN\n",
      "643  Bermuda  2016    78149.352535                 NaN\n"
     ]
    }
   ],
   "source": [
    "top3 = gdp_and_internet_use.loc[(gdp_and_internet_use['Country'] == 'Iceland') | (gdp_and_internet_use['Country'] == 'Bermuda') | (gdp_and_internet_use['Country'] == 'Norway')]\n",
    "print(top3.head())"
   ]
  },
  {
   "cell_type": "code",
   "execution_count": 210,
   "id": "8732ef4e",
   "metadata": {},
   "outputs": [
    {
     "data": {
      "text/plain": [
       "<seaborn.axisgrid.FacetGrid at 0x16eb98b3d90>"
      ]
     },
     "execution_count": 210,
     "metadata": {},
     "output_type": "execute_result"
    },
    {
     "data": {
      "image/png": "[encoded data removed]",
      "text/plain": [
       "<Figure size 900x300 with 3 Axes>"
      ]
     },
     "metadata": {},
     "output_type": "display_data"
    }
   ],
   "source": [
    "top3_graph = sns.FacetGrid(top3, col='Country', hue='Country', palette='prism')\n",
    "top3_graph.map_dataframe(sns.lineplot, x=\"Year\",  y=\"GDP_Per_Capita\")\n",
    "top3_graph.set_axis_labels('Year', 'GDP Per Capita')\n",
    "top3_graph.set_titles(col_template='{col_name}')"
   ]
  },
  {
   "cell_type": "markdown",
   "id": "341d9214",
   "metadata": {},
   "source": [
    "22. Subset gdp_and_internet_use to just the year 2014. Save this as a new dataframe named gdp_and_internet_use_2014."
   ]
  },
  {
   "cell_type": "code",
   "execution_count": 211,
   "id": "74f9cee2",
   "metadata": {},
   "outputs": [
    {
     "name": "stdout",
     "output_type": "stream",
     "text": [
      "                         Country  Year  GDP_Per_Capita  Internet_Users_Pct\n",
      "6                    Afghanistan  2014     2102.384604                6.39\n",
      "25   Africa Eastern and Southern  2014     3677.319414                 NaN\n",
      "56    Africa Western and Central  2014     4215.646000                 NaN\n",
      "87                       Albania  2014    11586.833878               60.10\n",
      "118                      Algeria  2014    11512.690472               18.09\n"
     ]
    }
   ],
   "source": [
    "print(gdp_and_internet_use_2014.head())"
   ]
  },
  {
   "cell_type": "code",
   "execution_count": 212,
   "id": "4bb75744",
   "metadata": {},
   "outputs": [
    {
     "name": "stdout",
     "output_type": "stream",
     "text": [
      "<class 'pandas.core.frame.DataFrame'>\n",
      "Int64Index: 281 entries, 6 to 8236\n",
      "Data columns (total 4 columns):\n",
      " #   Column              Non-Null Count  Dtype  \n",
      "---  ------              --------------  -----  \n",
      " 0   Country             281 non-null    object \n",
      " 1   Year                281 non-null    int64  \n",
      " 2   GDP_Per_Capita      242 non-null    float64\n",
      " 3   Internet_Users_Pct  202 non-null    float64\n",
      "dtypes: float64(2), int64(1), object(1)\n",
      "memory usage: 11.0+ KB\n"
     ]
    }
   ],
   "source": [
    "gdp_and_internet_use_2014.info()"
   ]
  },
  {
   "attachments": {},
   "cell_type": "markdown",
   "id": "4f4cb944",
   "metadata": {},
   "source": [
    "23. Create a plot which compares Internet Users Percentage and GDP per Capita for the year 2014. What do you notice from this plot? If you see any unusual points, investigate them."
   ]
  },
  {
   "cell_type": "code",
   "execution_count": 213,
   "id": "4c00d43d",
   "metadata": {},
   "outputs": [],
   "source": [
    "sns.set_style('dark')"
   ]
  },
  {
   "cell_type": "code",
   "execution_count": 214,
   "id": "810fc401",
   "metadata": {},
   "outputs": [
    {
     "data": {
      "text/plain": [
       "<Axes: xlabel='Internet_Users_Pct', ylabel='GDP_Per_Capita'>"
      ]
     },
     "execution_count": 214,
     "metadata": {},
     "output_type": "execute_result"
    },
    {
     "data": {
      "image/png": "[encoded data removed]",
      "text/plain": [
       "<Figure size 640x480 with 1 Axes>"
      ]
     },
     "metadata": {},
     "output_type": "display_data"
    }
   ],
   "source": [
    "sns.scatterplot(data=gdp_and_internet_use_2014, x=\"Internet_Users_Pct\", y=\"GDP_Per_Capita\", s=20, alpha=0.7)\n"
   ]
  },
  {
   "attachments": {},
   "cell_type": "markdown",
   "id": "3e47b21e",
   "metadata": {},
   "source": [
    "24. Use the qcut function from pandas (https://pandas.pydata.org/docs/reference/api/pandas.qcut.html) to divide countries in gdp_per_capita_2014 into three groups based on their GDP per capita values. Label these groups as \"Low\", \"Medium\", and \"High\". Put these labels in a new column, named \"GDP_group\"."
   ]
  },
  {
   "cell_type": "code",
   "execution_count": 215,
   "id": "96bd2eb1",
   "metadata": {},
   "outputs": [
    {
     "data": {
      "text/plain": [
       "6          (822.61, 6932.415]\n",
       "25         (822.61, 6932.415]\n",
       "56         (822.61, 6932.415]\n",
       "87      (6932.415, 19824.328]\n",
       "118     (6932.415, 19824.328]\n",
       "                ...          \n",
       "8147                      NaN\n",
       "8170                      NaN\n",
       "8194                      NaN\n",
       "8214                      NaN\n",
       "8236                      NaN\n",
       "Name: GDP_Per_Capita, Length: 281, dtype: category\n",
       "Categories (3, interval[float64, right]): [(822.61, 6932.415] < (6932.415, 19824.328] < (19824.328, 155201.741]]"
      ]
     },
     "execution_count": 215,
     "metadata": {},
     "output_type": "execute_result"
    }
   ],
   "source": [
    "pd.qcut(gdp_and_internet_use_2014.GDP_Per_Capita,3)"
   ]
  },
  {
   "cell_type": "code",
   "execution_count": 222,
   "id": "ba188beb",
   "metadata": {},
   "outputs": [
    {
     "name": "stdout",
     "output_type": "stream",
     "text": [
      "                         Country  Year  GDP_Per_Capita  Internet_Users_Pct  \\\n",
      "6                    Afghanistan  2014     2102.384604                6.39   \n",
      "25   Africa Eastern and Southern  2014     3677.319414                 NaN   \n",
      "56    Africa Western and Central  2014     4215.646000                 NaN   \n",
      "87                       Albania  2014    11586.833878               60.10   \n",
      "118                      Algeria  2014    11512.690472               18.09   \n",
      "\n",
      "    GDP_Group  \n",
      "6         Low  \n",
      "25        Low  \n",
      "56        Low  \n",
      "87     Medium  \n",
      "118    Medium  \n"
     ]
    },
    {
     "name": "stderr",
     "output_type": "stream",
     "text": [
      "C:\\Users\\melan\\AppData\\Local\\Temp\\ipykernel_15764\\3440031094.py:1: SettingWithCopyWarning: \n",
      "A value is trying to be set on a copy of a slice from a DataFrame.\n",
      "Try using .loc[row_indexer,col_indexer] = value instead\n",
      "\n",
      "See the caveats in the documentation: https://pandas.pydata.org/pandas-docs/stable/user_guide/indexing.html#returning-a-view-versus-a-copy\n",
      "  gdp_and_internet_use_2014['GDP_Group'] = pd.qcut(gdp_and_internet_use_2014['GDP_Per_Capita'], 3, ['Low', 'Medium', 'High'])\n"
     ]
    }
   ],
   "source": [
    "gdp_and_internet_use_2014['GDP_Group'] = pd.qcut(gdp_and_internet_use_2014['GDP_Per_Capita'], 3, ['Low', 'Medium', 'High'])\n",
    "print(gdp_and_internet_use_2014.head())"
   ]
  },
  {
   "attachments": {},
   "cell_type": "markdown",
   "id": "348a1d4a",
   "metadata": {},
   "source": [
    "25. Stretch Question: How does the median internet users percentage compare for the three gdp groups?"
   ]
  },
  {
   "cell_type": "code",
   "execution_count": 217,
   "id": "fb97f008",
   "metadata": {},
   "outputs": [],
   "source": [
    "low_group = gdp_and_internet_use_2014.loc[(gdp_and_internet_use_2014['GDP_Group'] == 'Low')]"
   ]
  },
  {
   "cell_type": "code",
   "execution_count": 218,
   "id": "0ecf5c49",
   "metadata": {},
   "outputs": [],
   "source": [
    "medium_group = gdp_and_internet_use_2014.loc[(gdp_and_internet_use_2014['GDP_Group'] == 'Medium')]"
   ]
  },
  {
   "cell_type": "code",
   "execution_count": 219,
   "id": "763b476b",
   "metadata": {},
   "outputs": [
    {
     "name": "stdout",
     "output_type": "stream",
     "text": [
      "                         Country  Year  GDP_Per_Capita  Internet_Users_Pct  \\\n",
      "6                    Afghanistan  2014     2102.384604                6.39   \n",
      "25   Africa Eastern and Southern  2014     3677.319414                 NaN   \n",
      "56    Africa Western and Central  2014     4215.646000                 NaN   \n",
      "459                   Bangladesh  2014     4157.919304                9.60   \n",
      "614                        Benin  2014     2975.854782                5.30   \n",
      "\n",
      "    GDP_Group  \n",
      "6         Low  \n",
      "25        Low  \n",
      "56        Low  \n",
      "459       Low  \n",
      "614       Low  \n",
      "                 Country  Year  GDP_Per_Capita  Internet_Users_Pct GDP_Group\n",
      "87               Albania  2014    11586.833878               60.10    Medium\n",
      "118              Algeria  2014    11512.690472               18.09    Medium\n",
      "149               Angola  2014     8240.347981               21.26    Medium\n",
      "180  Antigua and Barbuda  2014    18104.683788               64.00    Medium\n",
      "211           Arab World  2014    13994.618680                 NaN    Medium\n",
      "       Country  Year  GDP_Per_Capita  Internet_Users_Pct GDP_Group\n",
      "242  Argentina  2014    23550.099060            64.70000      High\n",
      "304      Aruba  2014    35405.034129            83.78000      High\n",
      "335  Australia  2014    47232.875387            84.56000      High\n",
      "366    Austria  2014    52932.900112            81.00000      High\n",
      "428    Bahrain  2014    48201.157172            90.99998      High\n"
     ]
    }
   ],
   "source": [
    "high_group = gdp_and_internet_use_2014.loc[(gdp_and_internet_use_2014['GDP_Group'] == 'High')]\n",
    "print(low_group.head())\n",
    "print(medium_group.head())\n",
    "print(high_group.head())"
   ]
  },
  {
   "cell_type": "code",
   "execution_count": 220,
   "id": "3263e09f",
   "metadata": {},
   "outputs": [],
   "source": [
    "import statistics\n"
   ]
  },
  {
   "cell_type": "code",
   "execution_count": 221,
   "id": "bc4f59bd",
   "metadata": {},
   "outputs": [
    {
     "name": "stdout",
     "output_type": "stream",
     "text": [
      "Low Group - 1.14\n",
      "Medium Group - nan\n",
      "High Group - nan\n"
     ]
    }
   ],
   "source": [
    "print('Low Group -', statistics.median(low_group.Internet_Users_Pct))\n",
    "print('Medium Group -', statistics.median(medium_group.Internet_Users_Pct))\n",
    "print('High Group -', statistics.median(high_group.Internet_Users_Pct))"
   ]
  }
 ],
 "metadata": {
  "kernelspec": {
   "display_name": "Python 3 (ipykernel)",
   "language": "python",
   "name": "python3"
  },
  "language_info": {
   "codemirror_mode": {
    "name": "ipython",
    "version": 3
   },
   "file_extension": ".py",
   "mimetype": "text/x-python",
   "name": "python",
   "nbconvert_exporter": "python",
   "pygments_lexer": "ipython3",
   "version": "3.10.9"
  }
 },
 "nbformat": 4,
 "nbformat_minor": 5
}
